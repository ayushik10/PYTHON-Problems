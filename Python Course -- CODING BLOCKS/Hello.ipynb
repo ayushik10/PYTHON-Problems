{
 "cells": [
  {
   "cell_type": "code",
   "execution_count": 1,
   "id": "3bf306cd-1ec2-4954-a307-905452d4ca18",
   "metadata": {},
   "outputs": [
    {
     "name": "stdout",
     "output_type": "stream",
     "text": [
      "Hello ji!!\n"
     ]
    }
   ],
   "source": [
    "print(\"Hello ji!!\")"
   ]
  },
  {
   "cell_type": "code",
   "execution_count": null,
   "id": "9f287793-f295-40f2-b44c-f610ef9c2980",
   "metadata": {},
   "outputs": [],
   "source": []
  }
 ],
 "metadata": {
  "kernelspec": {
   "display_name": "Python 3 (ipykernel)",
   "language": "python",
   "name": "python3"
  },
  "language_info": {
   "codemirror_mode": {
    "name": "ipython",
    "version": 3
   },
   "file_extension": ".py",
   "mimetype": "text/x-python",
   "name": "python",
   "nbconvert_exporter": "python",
   "pygments_lexer": "ipython3",
   "version": "3.12.0"
  }
 },
 "nbformat": 4,
 "nbformat_minor": 5
}
